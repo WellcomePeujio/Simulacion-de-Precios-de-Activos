{
  "nbformat": 4,
  "nbformat_minor": 0,
  "metadata": {
    "colab": {
      "private_outputs": true,
      "provenance": [],
      "authorship_tag": "ABX9TyPqSzPqDJ9NElw3pWSeMZ0J",
      "include_colab_link": true
    },
    "kernelspec": {
      "name": "python3",
      "display_name": "Python 3"
    },
    "language_info": {
      "name": "python"
    }
  },
  "cells": [
    {
      "cell_type": "markdown",
      "metadata": {
        "id": "view-in-github",
        "colab_type": "text"
      },
      "source": [
        "<a href=\"https://colab.research.google.com/github/WellcomePeujio/Simulacion-de-Precios-de-Activos/blob/main/_Simulaci%C3%B3n_de_Precios_de_Activos.ipynb\" target=\"_parent\"><img src=\"https://colab.research.google.com/assets/colab-badge.svg\" alt=\"Open In Colab\"/></a>"
      ]
    },
    {
      "cell_type": "markdown",
      "source": [
        "# Simulación de Precios de Activos\n",
        "\n",
        "**Problema**: El precio de una acción sigue un movimiento browniano geométrico con un precio inicial de:\n",
        "\n",
        " $$(S_0) = 50  dólares, $$\n",
        "\n",
        "una volatilidad anual de $$(\\sigma)\\ = 20% $$\n",
        "\n",
        "y una tasa de crecimiento de $$(\\mu)\\ = 10%. $$\n",
        "\n",
        "Se quiere simular el precio diario durante 30 días.\n",
        "\n",
        "**Preguntas**:\n",
        "\n",
        "1. Genera una simulación de los precios diarios de la acción.  \n",
        "2. Calcula el precio promedio y máximo alcanzado en el período.\n",
        "\n",
        "\n"
      ],
      "metadata": {
        "id": "S9WR3fXEtydQ"
      }
    },
    {
      "cell_type": "markdown",
      "source": [
        "# Resolución Matemática: Simulación de Precios de Activos\n",
        "\n",
        "## Paso 1: Fórmula del Precio Simulado\n",
        "\n",
        "El precio de la acción en el día \\$(t)\\$ (\\$(S_t)\\$) sigue la fórmula:\n",
        "\n",
        "$$\n",
        "S_t = S_0 \\cdot e^{\\left( (\\mu - \\frac{\\sigma^2}{2}) \\cdot t + \\sigma \\cdot \\sqrt{t} \\cdot Z \\right)}\n",
        "$$\n",
        "\n",
        "Donde:\n",
        "\n",
        "- \\$(S_0)\\$ = \\$50: Precio inicial.\n",
        "\n",
        "- \\$(\\mu)\\$ = \\$0.1: Tasa de crecimiento anual (10\\%\\).  \n",
        "- \\$(\\sigma)\\$ = \\$0.2: Volatilidad anual (20%).  \n",
        "- \\$(t)\\$: Tiempo en días (convertido a fracción anual: \\$t/365\\$).  \n",
        "- \\$(Z)\\$: Variable aleatoria estandarizada (\\$Z \\sim N(0, 1)\\$).\n",
        "\n",
        "---\n",
        "\n",
        "## Paso 2: Simplificación de los Componentes\n",
        "\n",
        "1. **Componente determinista**:  \n",
        "   $$\n",
        "   \\mu - \\frac{\\sigma^2}{2} = 0.1 - \\frac{0.2^2}{2} = 0.1 - 0.02 = 0.08\n",
        "   $$\n",
        "\n",
        "2. **Componente aleatorio**:  \n",
        "   $$\n",
        "   \\sigma \\cdot \\sqrt{\\frac{1}{365}} \\cdot Z = 0.2 \\cdot \\sqrt{\\frac{1}{365}} \\cdot Z\n",
        "   $$\n",
        "\n",
        "La fórmula queda como:\n",
        "\n",
        "$$\n",
        "S_t = S_0 \\cdot e^{(0.08 \\cdot \\frac{t}{365} + 0.2 \\cdot \\sqrt{\\frac{t}{365}} \\cdot Z)}\n",
        "$$\n",
        "\n",
        "---\n",
        "\n",
        "## Paso 3: Generación de Precios Diarios\n",
        "\n",
        "- Para cada día \\$(t)\\$ en el rango de 1 a 30, generamos un valor aleatorio \\$(Z)\\$ con distribución normal estándar.  \n",
        "- Sustituimos los valores en la fórmula para calcular el precio diario \\$(S_t)\\$.  \n",
        "\n",
        "---\n",
        "\n",
        "## Paso 4: Cálculo del Precio Promedio y Máximo\n",
        "\n",
        "1. **Precio Promedio**:  \n",
        "   Calculamos el promedio de todos los precios simulados:  \n",
        "   $$\n",
        "   \\text{Promedio} = \\frac{\\sum_{t=1}^{30} S_t}{30}\n",
        "   $$\n",
        "\n",
        "2. **Precio Máximo**:  \n",
        "   Determinamos el precio máximo alcanzado:  \n",
        "   $$\n",
        "   \\text{Máximo} = \\max(S_t)\n",
        "   $$\n",
        "\n",
        "---\n",
        "\n",
        "## Conclusión\n",
        "\n",
        "La simulación proporciona:\n",
        "1. Una serie de precios diarios simulados durante 30 días.  \n",
        "2. El precio promedio y el precio máximo alcanzado en el período de simulación.\n"
      ],
      "metadata": {
        "id": "aW8Z3XEHt737"
      }
    },
    {
      "cell_type": "code",
      "source": [
        "import numpy as np\n",
        "import matplotlib.pyplot as plt\n",
        "\n",
        "# Parámetros del problema\n",
        "S0 = 50  # Precio inicial ($)\n",
        "mu = 0.1  # Tasa de crecimiento anual\n",
        "sigma = 0.2  # Volatilidad anual\n",
        "T = 30 / 365  # Período en años (30 días)\n",
        "num_dias = 30  # Número de días de simulación\n",
        "\n",
        "# Generar precios diarios usando un movimiento browniano geométrico\n",
        "np.random.seed(42)  # Fijar la semilla para reproducibilidad\n",
        "Z = np.random.normal(0, 1, num_dias)  # Valores aleatorios Z ~ N(0, 1)\n",
        "t = np.arange(1, num_dias + 1) / 365  # Tiempo en fracciones de año\n",
        "ST = S0 * np.exp((mu - 0.5 * sigma**2) * t + sigma * np.sqrt(t) * Z)  # Precios simulados\n",
        "\n",
        "# Calcular precio promedio y máximo\n",
        "precio_promedio = np.mean(ST)\n",
        "precio_maximo = np.max(ST)\n",
        "\n",
        "# Graficar la evolución del precio\n",
        "plt.figure(figsize=(12, 6))\n",
        "plt.plot(range(1, num_dias + 1), ST, marker='o', linestyle='-', color='#4CAF50', label='Precio diario')\n",
        "plt.axhline(precio_promedio, color='#FFC300', linestyle='--', label=f'Promedio: ${precio_promedio:.2f}')\n",
        "plt.axhline(precio_maximo, color='#FF5733', linestyle='--', label=f'Máximo: ${precio_maximo:.2f}')\n",
        "\n",
        "# Personalización de la gráfica\n",
        "plt.title(\"Simulación de Precios Diarios de una Acción\", fontsize=16, fontweight='bold')\n",
        "plt.xlabel(\"Días\", fontsize=14)\n",
        "plt.ylabel(\"Precio de la Acción ($)\", fontsize=14)\n",
        "plt.xticks(fontsize=12)\n",
        "plt.yticks(fontsize=12)\n",
        "plt.legend(fontsize=12)\n",
        "plt.grid(alpha=0.4, linestyle='--')\n",
        "\n",
        "# Mostrar gráfica\n",
        "plt.tight_layout()\n",
        "plt.show()\n",
        "\n",
        "# Resultados\n",
        "{\n",
        "    \"Precio promedio\": round(precio_promedio, 2),\n",
        "    \"Precio máximo\": round(precio_maximo, 2)\n",
        "}"
      ],
      "metadata": {
        "id": "1DZyY9qiuFS2"
      },
      "execution_count": null,
      "outputs": []
    }
  ]
}